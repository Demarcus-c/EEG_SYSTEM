{
 "cells": [
  {
   "cell_type": "code",
   "execution_count": 1,
   "id": "c0694f76",
   "metadata": {},
   "outputs": [],
   "source": [
    "import torch\n",
    "import torch.nn as nn\n",
    "import torch.optim as optim\n",
    "from torch.utils.data import Dataset, DataLoader\n",
    "import pandas as pd\n",
    "from sklearn.model_selection import train_test_split\n",
    "from sklearn.preprocessing import StandardScaler\n",
    "from sklearn.metrics import accuracy_score\n"
   ]
  },
  {
   "cell_type": "code",
   "execution_count": 2,
   "id": "6d50b7ba",
   "metadata": {},
   "outputs": [],
   "source": [
    "data = pd.read_csv(r'C:\\Users\\hp\\Downloads\\epilepsy_eeg-main\\epilepsy_eeg-main\\csv_data\\Epileptic Seizure Recognition.csv')\n",
    "data = data.drop(columns=['Unnamed'])  # Drop ID\n",
    "\n",
    "# Make binary: 1 = seizure, 0 = non-seizure\n",
    "data['y'] = data['y'].apply(lambda x: 1 if x == 1 else 0)\n",
    "\n",
    "X = data.drop('y', axis=1).values\n",
    "y = data['y'].values\n",
    "\n",
    "scaler = StandardScaler()\n",
    "X = scaler.fit_transform(X)\n",
    "\n",
    "X = X.reshape(-1, 1, 178)  # shape: (samples, channels, time)\n"
   ]
  },
  {
   "cell_type": "code",
   "execution_count": 3,
   "id": "f2b507a4",
   "metadata": {},
   "outputs": [],
   "source": [
    "X_train, X_test, y_train, y_test = train_test_split(\n",
    "    X, y, test_size=0.2, stratify=y, random_state=42)\n"
   ]
  },
  {
   "cell_type": "code",
   "execution_count": 4,
   "id": "d482f806",
   "metadata": {},
   "outputs": [],
   "source": [
    "class EEGSet(Dataset):\n",
    "    def __init__(self, X, y):\n",
    "        self.X = torch.tensor(X, dtype=torch.float32)\n",
    "        self.y = torch.tensor(y, dtype=torch.long)\n",
    "\n",
    "    def __getitem__(self, i):\n",
    "        return self.X[i], self.y[i]\n",
    "\n",
    "    def __len__(self):\n",
    "        return len(self.X)\n",
    "\n",
    "train_set = EEGSet(X_train, y_train)\n",
    "test_set = EEGSet(X_test, y_test)\n",
    "\n",
    "train_loader = DataLoader(train_set, batch_size=64, shuffle=True)\n",
    "test_loader = DataLoader(test_set, batch_size=64)\n"
   ]
  },
  {
   "cell_type": "code",
   "execution_count": 5,
   "id": "55b39235",
   "metadata": {},
   "outputs": [],
   "source": [
    "class SimpleChronoNet(nn.Module):\n",
    "    def __init__(self):\n",
    "        super().__init__()\n",
    "        self.cnn = nn.Conv1d(1, 96, 3, padding=1)\n",
    "        self.rnn1 = nn.GRU(96, 64, batch_first=True)\n",
    "        self.rnn2 = nn.GRU(64, 32, batch_first=True)\n",
    "        self.fc = nn.Linear(32, 2)\n",
    "        self.drop = nn.Dropout(0.3)\n",
    "        self.relu = nn.ReLU()\n",
    "\n",
    "    def forward(self, x):\n",
    "        x = self.relu(self.cnn(x))          \n",
    "        x = x.permute(0, 2, 1)              \n",
    "        x, _ = self.rnn1(x)                 \n",
    "        x, _ = self.rnn2(x)                 \n",
    "        x = self.drop(x[:, -1, :])          \n",
    "        return self.fc(x)                   \n"
   ]
  },
  {
   "cell_type": "code",
   "execution_count": 6,
   "id": "452c4627",
   "metadata": {},
   "outputs": [],
   "source": [
    "model = SimpleChronoNet()\n",
    "loss_fn = nn.CrossEntropyLoss()\n",
    "opt = optim.Adam(model.parameters(), lr=0.001)\n",
    "device = torch.device(\"cuda\" if torch.cuda.is_available() else \"cpu\")\n",
    "model = model.to(device)\n"
   ]
  },
  {
   "cell_type": "code",
   "execution_count": 7,
   "id": "1bfac6d8",
   "metadata": {},
   "outputs": [
    {
     "name": "stdout",
     "output_type": "stream",
     "text": [
      "Epoch 1/15 | Loss: 0.0611\n",
      "Epoch 2/15 | Loss: 0.0992\n",
      "Epoch 3/15 | Loss: 0.1742\n",
      "Epoch 4/15 | Loss: 0.0228\n",
      "Epoch 5/15 | Loss: 0.0339\n",
      "Epoch 6/15 | Loss: 0.2107\n",
      "Epoch 7/15 | Loss: 0.1380\n",
      "Epoch 8/15 | Loss: 0.0776\n",
      "Epoch 9/15 | Loss: 0.1247\n",
      "Epoch 10/15 | Loss: 0.0189\n",
      "Epoch 11/15 | Loss: 0.1362\n",
      "Epoch 12/15 | Loss: 0.0332\n",
      "Epoch 13/15 | Loss: 0.0208\n",
      "Epoch 14/15 | Loss: 0.0310\n",
      "Epoch 15/15 | Loss: 0.0267\n"
     ]
    }
   ],
   "source": [
    "for ep in range(15):\n",
    "    model.train()\n",
    "    for Xb, yb in train_loader:\n",
    "        Xb, yb = Xb.to(device), yb.to(device)\n",
    "        out = model(Xb)\n",
    "        loss = loss_fn(out, yb)\n",
    "\n",
    "        opt.zero_grad()\n",
    "        loss.backward()\n",
    "        opt.step()\n",
    "\n",
    "    print(f\"Epoch {ep+1}/15 | Loss: {loss.item():.4f}\")\n"
   ]
  },
  {
   "cell_type": "code",
   "execution_count": 9,
   "id": "f5a231aa",
   "metadata": {},
   "outputs": [
    {
     "name": "stdout",
     "output_type": "stream",
     "text": [
      "Accuracy: 98.52%\n"
     ]
    }
   ],
   "source": [
    "model.eval()\n",
    "y_true = []\n",
    "y_pred = []\n",
    "\n",
    "with torch.no_grad():\n",
    "    for Xb, yb in test_loader:\n",
    "        Xb = Xb.to(device)\n",
    "        out = model(Xb)\n",
    "        preds = torch.argmax(out, dim=1).cpu().numpy()\n",
    "        y_pred += preds.tolist()\n",
    "        y_true += yb.tolist()\n",
    "\n",
    "acc = accuracy_score(y_true, y_pred)\n",
    "print(f\"Accuracy: {acc * 100:.2f}%\")\n"
   ]
  }
 ],
 "metadata": {
  "kernelspec": {
   "display_name": "Python 3",
   "language": "python",
   "name": "python3"
  },
  "language_info": {
   "codemirror_mode": {
    "name": "ipython",
    "version": 3
   },
   "file_extension": ".py",
   "mimetype": "text/x-python",
   "name": "python",
   "nbconvert_exporter": "python",
   "pygments_lexer": "ipython3",
   "version": "3.12.4"
  }
 },
 "nbformat": 4,
 "nbformat_minor": 5
}
